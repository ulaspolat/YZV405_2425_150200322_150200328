{
 "cells": [
  {
   "cell_type": "code",
   "execution_count": null,
   "metadata": {},
   "outputs": [],
   "source": [
    "# Mount Google Drive\n",
    "from google.colab import drive\n",
    "drive.mount('/content/drive')"
   ]
  },
  {
   "cell_type": "code",
   "execution_count": null,
   "metadata": {},
   "outputs": [],
   "source": [
    "import os\n",
    "\n",
    "# Set the working directory to the NLP project folder\n",
    "project_dir = '/content/drive/MyDrive/nlp-project/colab_files'\n",
    "os.chdir(project_dir)\n",
    "\n",
    "print(f\"Working directory: {os.getcwd()}\")\n",
    "\n",
    "# Install required packages if needed\n",
    "# !pip install transformers torch pandas tqdm scikit-learn"
   ]
  },
  {
   "cell_type": "markdown",
   "metadata": {},
   "source": [
    "## Training Models\n",
    "\n",
    "Train models for Turkish (tr) and Italian (it) languages"
   ]
  },
  {
   "cell_type": "code",
   "execution_count": null,
   "metadata": {},
   "outputs": [],
   "source": [
    "# Train model for Turkish language\n",
    "!python train.py --language_filter tr \\\n",
    "  --train_file /content/drive/MyDrive/nlp-project/public_data/train.csv \\\n",
    "  --eval_file /content/drive/MyDrive/nlp-project/public_data/eval.csv \\\n",
    "  --output_dir /content/drive/MyDrive/nlp-project/models \\\n",
    "  --batch_size 16 \\\n",
    "  --num_epochs 15"
   ]
  },
  {
   "cell_type": "code",
   "execution_count": null,
   "metadata": {},
   "outputs": [],
   "source": [
    "# Train model for Italian language\n",
    "!python train.py --language_filter it \\\n",
    "  --train_file /content/drive/MyDrive/nlp-project/public_data/train.csv \\\n",
    "  --eval_file /content/drive/MyDrive/nlp-project/public_data/eval.csv \\\n",
    "  --output_dir /content/drive/MyDrive/nlp-project/models \\\n",
    "  --batch_size 16 \\\n",
    "  --num_epochs 15"
   ]
  },
  {
   "cell_type": "markdown",
   "metadata": {},
   "source": [
    "Predictions\n",
    "\n",
    "Generate predictions for each language and combine them"
   ]
  },
  {
   "cell_type": "code",
   "execution_count": null,
   "metadata": {},
   "outputs": [],
   "source": [
    "import pandas as pd\n",
    "\n",
    "# Create the directory for temporary predictions\n",
    "!mkdir -p /content/drive/MyDrive/nlp-project/predictions/temp_tr\n",
    "\n",
    "# Generate predictions for Turkish language\n",
    "!python predict.py \\\n",
    "  --test_file /content/drive/MyDrive/nlp-project/starting_kit/test_w_o_labels.csv \\\n",
    "  --language_filter tr \\\n",
    "  --model_name xlm-roberta-large \\\n",
    "  --model_dir /content/drive/MyDrive/nlp-project/models \\\n",
    "  --batch_size 16 \\\n",
    "  --max_length 128 \\\n",
    "  --output_dir /content/drive/MyDrive/nlp-project/predictions/temp_tr\n",
    "\n",
    "# Copy the predictions to a language-specific file\n",
    "!cp /content/drive/MyDrive/nlp-project/predictions/temp_tr/prediction.csv /content/drive/MyDrive/nlp-project/predictions/tr_prediction.csv\n",
    "\n",
    "# Load the Turkish predictions\n",
    "tr_predictions = pd.read_csv('/content/drive/MyDrive/nlp-project/predictions/tr_prediction.csv')"
   ]
  },
  {
   "cell_type": "code",
   "execution_count": null,
   "metadata": {},
   "outputs": [],
   "source": [
    "# Create the directory for temporary predictions\n",
    "!mkdir -p /content/drive/MyDrive/nlp-project/predictions/temp_it\n",
    "\n",
    "# Generate predictions for Italian language\n",
    "!python predict.py \\\n",
    "  --test_file /content/drive/MyDrive/nlp-project/starting_kit/test_w_o_labels.csv \\\n",
    "  --language_filter it \\\n",
    "  --model_name xlm-roberta-large \\\n",
    "  --model_dir /content/drive/MyDrive/nlp-project/models \\\n",
    "  --batch_size 16 \\\n",
    "  --max_length 128 \\\n",
    "  --output_dir /content/drive/MyDrive/nlp-project/predictions/temp_it\n",
    "\n",
    "# Copy the predictions to a language-specific file\n",
    "!cp /content/drive/MyDrive/nlp-project/predictions/temp_it/prediction.csv /content/drive/MyDrive/nlp-project/predictions/it_prediction.csv\n",
    "\n",
    "# Load the Italian predictions\n",
    "it_predictions = pd.read_csv('/content/drive/MyDrive/nlp-project/predictions/it_prediction.csv')"
   ]
  },
  {
   "cell_type": "code",
   "execution_count": null,
   "metadata": {},
   "outputs": [],
   "source": [
    "# Combine predictions from both languages\n",
    "import pandas as pd\n",
    "\n",
    "# Load predictions from saved files to ensure they're correct\n",
    "tr_predictions = pd.read_csv('/content/drive/MyDrive/nlp-project/predictions/tr_prediction.csv')\n",
    "it_predictions = pd.read_csv('/content/drive/MyDrive/nlp-project/predictions/it_prediction.csv')\n",
    "\n",
    "# Combine predictions (predictions should be filtered by language already)\n",
    "combined_predictions = pd.concat([tr_predictions, it_predictions])\n",
    "combined_predictions = combined_predictions.drop_duplicates(subset=['id'])\n",
    "\n",
    "# Sort by ID\n",
    "combined_predictions = combined_predictions.sort_values('id')\n",
    "\n",
    "# Save combined predictions\n",
    "combined_predictions.to_csv('/content/drive/MyDrive/nlp-project/predictions/combined_prediction.csv', index=False)\n",
    "\n",
    "# View the first few rows of combined predictions\n",
    "combined_predictions.head()"
   ]
  }
 ],
 "metadata": {
  "language_info": {
   "name": "python"
  }
 },
 "nbformat": 4,
 "nbformat_minor": 2
}
